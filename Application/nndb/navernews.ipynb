{
 "cells": [
  {
   "cell_type": "code",
   "execution_count": 7,
   "id": "0401c99a-1495-49a7-b32b-1422ef57742a",
   "metadata": {},
   "outputs": [],
   "source": [
    "import pandas as pd\n",
    "import numpy as np\n",
    "import folium\n",
    "import requests\n",
    "\n",
    "from bs4 import BeautifulSoup\n",
    "\n",
    "# pip install tqdm : progressBar 구현\n",
    "from tqdm.notebook import tqdm \n",
    "from selenium import webdriver\n",
    "\n",
    "from selenium.webdriver.common.by import By\n",
    "from selenium.webdriver.support.ui import WebDriverWait\n",
    "from selenium.webdriver.support import expected_conditions as EC\n",
    "from selenium.webdriver.chrome.service import Service\n",
    "import time\n",
    "from datetime import datetime\n",
    "# jupyter nbconvert --to script coffeeStore.ipynb"
   ]
  },
  {
   "cell_type": "code",
   "execution_count": 8,
   "id": "0a371a49-5e37-40fe-9521-74515a4fd350",
   "metadata": {},
   "outputs": [
    {
     "name": "stdout",
     "output_type": "stream",
     "text": [
      "<class 'selenium.webdriver.chrome.webdriver.WebDriver'>\n"
     ]
    }
   ],
   "source": [
    "chrome_options = webdriver.ChromeOptions() # 크롬 브라우저 옵션\n",
    "driver_path = 'chromedriver.exe' #다운로드 받은 드라이버 파일\n",
    "myservice = Service(driver_path) #드라이버 제어를 위한 서비스 객체\n",
    "driver = webdriver.Chrome(service=myservice, options=chrome_options) # 드라이버 객체\n",
    "print(type(driver)) # 객체가 잘 새성되었는 지 확인\n",
    "\n",
    "wait_time = 10 #최대 대기 시간\n",
    "driver.implicitly_wait(wait_time)"
   ]
  },
  {
   "cell_type": "code",
   "execution_count": 9,
   "id": "d5410b46-73dd-4ffd-a815-af5a7a1054b2",
   "metadata": {},
   "outputs": [],
   "source": [
    "driver.maximize_window() # 윈도우 창 최대화"
   ]
  },
  {
   "cell_type": "code",
   "execution_count": 10,
   "id": "a9912daf-6ec2-4c9f-9002-8755f0225033",
   "metadata": {},
   "outputs": [
    {
     "name": "stdout",
     "output_type": "stream",
     "text": [
      "     count                                              title section  \\\n",
      "0        1   한동훈에 날 세운 이준석 &quot;특검 안 하려 머리 빠지도록 고민하는 듯&quot;      정치   \n",
      "1        2                    박형준·오세훈, 부산서 ‘미래 지도자의 길’ 특별 대담회      정치   \n",
      "2        3   장동혁 &quot;제3자 특검법, 열흘내 발의? 아버지 이재명 정당다운 발상&quot;      정치   \n",
      "3        4                       장세일 영광군수 예비후보, ‘최우선실천’ 공약 발표      정치   \n",
      "4        5   국힘, 이재명 대표 회담 제안에 &quot;대단히 환영, 실질적 결과 있어야&quot;      정치   \n",
      "..     ...                                                ...     ...   \n",
      "469    470    &quot;젊은층 <b>연애</b>도 못해&quot;…中, 7월 경제도 '부진의 늪'      연애   \n",
      "470    471        中, 7월 경제지표도 지지부진 전망…“젊은층 마저도 <b>연애</b>는 사치”      연애   \n",
      "471    472                    충북 콘텐츠산업 날갯짓, 영화 개봉·영화제 출품 잇따른다      연애   \n",
      "472    473                    국가비상사태라고? 기기괴괴한 K-인구정책 [소셜 코리아]      연애   \n",
      "473    474  中, 7월 경제지표도 지지부진 전망…&quot;젊은층 <b>연애</b>도 사치&quot;      연애   \n",
      "\n",
      "                                                  link                pDate  \\\n",
      "0    https://n.news.naver.com/mnews/article/011/000...  2024-08-19 10:12:00   \n",
      "1    https://n.news.naver.com/mnews/article/031/000...  2024-08-19 10:11:00   \n",
      "2    https://n.news.naver.com/mnews/article/008/000...  2024-08-19 10:10:00   \n",
      "3    https://n.news.naver.com/mnews/article/382/000...  2024-08-19 10:10:00   \n",
      "4    https://n.news.naver.com/mnews/article/003/001...  2024-08-19 10:09:00   \n",
      "..                                                 ...                  ...   \n",
      "469  https://n.news.naver.com/mnews/article/215/000...  2024-08-14 13:52:00   \n",
      "470  https://n.news.naver.com/mnews/article/016/000...  2024-08-14 13:23:00   \n",
      "471  https://n.news.naver.com/mnews/article/003/001...  2024-08-14 12:19:00   \n",
      "472  https://n.news.naver.com/mnews/article/047/000...  2024-08-14 12:16:00   \n",
      "473  https://n.news.naver.com/mnews/article/001/001...  2024-08-14 11:53:00   \n",
      "\n",
      "                                           description  \n",
      "0    이준석 개혁신당 의원이 최근 불거진 제보 공작 의혹을 ‘채 상병 특검법’의 수사 대...  \n",
      "1    부산시는 오는 23일 오전 동서대학교 센텀캠퍼스에서 한국<b>정치</b>학회가 주관...  \n",
      "2    그는 &quot;(한동훈 국민의힘 대표가) 제3자 특검을 제안한 것은 이재명 대표가...  \n",
      "3    부패 <b>정치</b>와 인구감소, 저출생 등 사라져야 할 10대 지역 현안을 잘라...  \n",
      "4    이어 &quot;제3자 특검안을 제안한 건 이 대표 말처럼 긴급한 국가 과제는 산적...  \n",
      "..                                                 ...  \n",
      "469  중국 젊은이들이 <b>연애</b>에 돈을 쓰지 않고 있으며, 지난 10일 칠석 당시...  \n",
      "470  중국 젊은이들이 <b>연애</b>에 돈을 쓰지 않고 있으며, 지난 10일 칠석 당시...  \n",
      "471  7년의 <b>연애</b> 끝 헤어진 같은 이름의 연인 지원과 지원이 20대 후반이 ...  \n",
      "472  지역 공공인프라를 활용해 아이 돌봄을 제공하는 K-보듬센터도 있고, <b>연애</b...  \n",
      "473  중국 젊은이들이 <b>연애</b>에 돈을 쓰지 않고 있으며, 지난 10일 칠석 당시...  \n",
      "\n",
      "[474 rows x 6 columns]\n"
     ]
    }
   ],
   "source": [
    "csv_file_path = 'naver_news.csv'\n",
    "\n",
    "df = pd.read_csv(csv_file_path)\n",
    "print(df)"
   ]
  },
  {
   "cell_type": "code",
   "execution_count": null,
   "id": "74f76479-9173-40a7-86a9-2e91a873bb64",
   "metadata": {},
   "outputs": [
    {
     "name": "stdout",
     "output_type": "stream",
     "text": [
      "img_content is None.\n",
      "img_content is None.\n",
      "img_content is None.\n",
      "img_content is None.\n",
      "img_content is None.\n",
      "img_content is None.\n",
      "img_content is None.\n",
      "img_content is None.\n",
      "img_content is None.\n",
      "img_content is None.\n",
      "img_content is None.\n",
      "img_content is None.\n",
      "img_content is None.\n",
      "img_content is None.\n",
      "img_content is None.\n",
      "img_content is None.\n",
      "img_content is None.\n",
      "img_content is None.\n"
     ]
    }
   ],
   "source": [
    "link_list = []\n",
    "text_list = []\n",
    "for index,row in df.iterrows() :\n",
    "    navernews_url = f\"{row['link']}\"\n",
    "    driver.get(navernews_url)\n",
    "\n",
    "    html = driver.page_source\n",
    "    soup = BeautifulSoup(html, 'html.parser')\n",
    "    container = soup.find('div', id = 'newsct_article')\n",
    "    img_content = container.find('img')\n",
    "# None 체크 및 메서드 호출\n",
    "    if img_content is not None:\n",
    "        src_value = img_content.get('src')\n",
    "        if src_value is None:\n",
    "            print(\"The 'src' attribute is missing.\")\n",
    "            src_value=''\n",
    "    else:\n",
    "        print(\"img_content is None.\")\n",
    "        src_value=''\n",
    "    link_list.append(src_value)\n",
    "    \n",
    "    if container:\n",
    "        article = container.find('article', {'class': 'go_trans _article_content'})\n",
    "        if article:\n",
    "            strong_tags = article.find_all('strong')\n",
    "            for strong in strong_tags:\n",
    "                strong.decompose()\n",
    "            text = article.get_text(separator='', strip=True)\n",
    "            text_list.append(text)\n",
    "        else:\n",
    "            print('본문 내용을 포함하는 <article> 태그를 찾을 수 없습니다')\n",
    "    else:\n",
    "        print(\"본문 내용을 포함하는 <div> 태그를 찾을 수 없습니다.\")\n",
    "    "
   ]
  },
  {
   "cell_type": "code",
   "execution_count": 19,
   "id": "49d6c245-18ef-4d7a-9371-3c1c8e8560b6",
   "metadata": {},
   "outputs": [],
   "source": [
    "df['img_link'] = None"
   ]
  },
  {
   "cell_type": "code",
   "execution_count": 20,
   "id": "55ce2b37-8a26-41d3-873c-46a39cb5a89b",
   "metadata": {},
   "outputs": [],
   "source": [
    "if len(link_list) == len(df):\n",
    "    df['img_link'] = link_list\n",
    "else:\n",
    "     print(\"The length of img_links does not match the length of the dataframe.\")"
   ]
  },
  {
   "cell_type": "code",
   "execution_count": 21,
   "id": "6a780469-6a61-4f66-888e-f0c7aea4822b",
   "metadata": {},
   "outputs": [],
   "source": [
    "df['text'] = None"
   ]
  },
  {
   "cell_type": "code",
   "execution_count": 22,
   "id": "a6710a97-a156-42d8-a4a3-2b4762db51e9",
   "metadata": {},
   "outputs": [],
   "source": [
    "if len(text_list) == len(df):\n",
    "    df['text'] = text_list\n",
    "else:\n",
    "    print('길이가 맞지 않습니다')"
   ]
  },
  {
   "cell_type": "code",
   "execution_count": 23,
   "id": "e5a3a261-1a7f-46c6-b40d-731611f94971",
   "metadata": {},
   "outputs": [],
   "source": [
    "df.to_csv('navernews.csv', index=False)"
   ]
  },
  {
   "cell_type": "code",
   "execution_count": 5,
   "id": "5724eaa6-5e95-428a-8c74-45ced15c677f",
   "metadata": {},
   "outputs": [],
   "source": []
  },
  {
   "cell_type": "code",
   "execution_count": 31,
   "id": "bca67e1f-8fd3-44ab-aeeb-98599be12457",
   "metadata": {},
   "outputs": [
    {
     "name": "stdout",
     "output_type": "stream",
     "text": [
      "<a class=\"media_end_head_top_logo _LAZY_LOADING_ERROR_HIDE\" href=\"http://www.kookje.co.kr/\">\n",
      "<img alt=\"국제신문\" class=\"media_end_head_top_logo_img light_type _LAZY_LOADING _LAZY_LOADING_INIT_HIDE\" height=\"32\" src=\"https://mimgnews.pstatic.net/image/upload/office_logo/658/2022/01/24/logo_658_6_20220124173555.png\" style=\"\" title=\"국제신문\" width=\"\"/>\n",
      "<img alt=\"국제신문\" class=\"media_end_head_top_logo_img dark_type _LAZY_LOADING _LAZY_LOADING_INIT_HIDE\" height=\"32\" src=\"https://mimgnews.pstatic.net/image/upload/office_logo/658/2022/01/24/dark_logo_658_6_20220124173550.png\" style=\"display: inline;\" title=\"국제신문\" width=\"\"/>\n",
      "</a>\n",
      "<img alt=\"국제신문\" class=\"media_end_head_top_logo_img light_type _LAZY_LOADING _LAZY_LOADING_INIT_HIDE\" height=\"32\" src=\"https://mimgnews.pstatic.net/image/upload/office_logo/658/2022/01/24/logo_658_6_20220124173555.png\" style=\"\" title=\"국제신문\" width=\"\"/>\n"
     ]
    }
   ],
   "source": [
    "navernews_url = \"https://n.news.naver.com/mnews/article/658/0000081030?sid=110\"\n",
    "driver.get(navernews_url)\n",
    "\n",
    "html = driver.page_source\n",
    "soup = BeautifulSoup(html, 'html.parser')\n",
    "container = soup.find('a', class_ = 'media_end_head_top_logo')\n",
    "media = container.find('img')\n",
    "print(container)\n",
    "print(media)"
   ]
  },
  {
   "cell_type": "code",
   "execution_count": 99,
   "id": "a219fd0f-3600-4ce5-9109-42ee0a5721d6",
   "metadata": {},
   "outputs": [],
   "source": [
    "article_list = []"
   ]
  },
  {
   "cell_type": "code",
   "execution_count": 135,
   "id": "b115876e-f724-481c-9a6e-4b1d34c7e25d",
   "metadata": {},
   "outputs": [],
   "source": [
    "current_date = datetime.now().strftime('%Y-%m-%d')\n",
    "cnt = 1\n",
    "section = '정치'"
   ]
  },
  {
   "cell_type": "code",
   "execution_count": 54,
   "id": "d8ae8507-c25c-488a-b29e-af7c0bd27ff8",
   "metadata": {},
   "outputs": [],
   "source": [
    "# daumnews_url = 'https://news.daum.net/politics'\n",
    "# driver.get(daumnews_url)"
   ]
  },
  {
   "cell_type": "code",
   "execution_count": 137,
   "id": "d2557573-a037-4951-ae99-48d5f9aec448",
   "metadata": {},
   "outputs": [
    {
     "ename": "NoSuchWindowException",
     "evalue": "Message: no such window: target window already closed\nfrom unknown error: web view not found\n  (Session info: chrome=127.0.6533.120)\nStacktrace:\n\tGetHandleVerifier [0x00007FF660BA9632+30946]\n\t(No symbol) [0x00007FF660B5E3C9]\n\t(No symbol) [0x00007FF660A56FDA]\n\t(No symbol) [0x00007FF660A2CB85]\n\t(No symbol) [0x00007FF660AD37A7]\n\t(No symbol) [0x00007FF660AEA771]\n\t(No symbol) [0x00007FF660ACC813]\n\t(No symbol) [0x00007FF660A9A6E5]\n\t(No symbol) [0x00007FF660A9B021]\n\tGetHandleVerifier [0x00007FF660CDF83D+1301229]\n\tGetHandleVerifier [0x00007FF660CEBDB7+1351783]\n\tGetHandleVerifier [0x00007FF660CE2A03+1313971]\n\tGetHandleVerifier [0x00007FF660BDDD06+245686]\n\t(No symbol) [0x00007FF660B6758F]\n\t(No symbol) [0x00007FF660B63804]\n\t(No symbol) [0x00007FF660B63992]\n\t(No symbol) [0x00007FF660B5A3EF]\n\tBaseThreadInitThunk [0x00007FFD16CD7374+20]\n\tRtlUserThreadStart [0x00007FFD18ADCC91+33]\n",
     "output_type": "error",
     "traceback": [
      "\u001b[1;31m---------------------------------------------------------------------------\u001b[0m",
      "\u001b[1;31mNoSuchWindowException\u001b[0m                     Traceback (most recent call last)",
      "Cell \u001b[1;32mIn[137], line 4\u001b[0m\n\u001b[0;32m      2\u001b[0m daumnews_url \u001b[38;5;241m=\u001b[39m \u001b[38;5;124m'\u001b[39m\u001b[38;5;124mhttps://news.daum.net/breakingnews/politics?page=\u001b[39m\u001b[38;5;132;01m%d\u001b[39;00m\u001b[38;5;124m'\u001b[39m \u001b[38;5;241m%\u001b[39mpage_num\n\u001b[0;32m      3\u001b[0m time\u001b[38;5;241m.\u001b[39msleep(\u001b[38;5;241m2\u001b[39m)\n\u001b[1;32m----> 4\u001b[0m \u001b[43mdriver\u001b[49m\u001b[38;5;241;43m.\u001b[39;49m\u001b[43mget\u001b[49m\u001b[43m(\u001b[49m\u001b[43mdaumnews_url\u001b[49m\u001b[43m)\u001b[49m\n\u001b[0;32m      5\u001b[0m html \u001b[38;5;241m=\u001b[39m driver\u001b[38;5;241m.\u001b[39mpage_source\n\u001b[0;32m      6\u001b[0m soup \u001b[38;5;241m=\u001b[39m BeautifulSoup(html, \u001b[38;5;124m'\u001b[39m\u001b[38;5;124mhtml.parser\u001b[39m\u001b[38;5;124m'\u001b[39m)\n",
      "File \u001b[1;32mC:\\Python312\\Lib\\site-packages\\selenium\\webdriver\\remote\\webdriver.py:363\u001b[0m, in \u001b[0;36mWebDriver.get\u001b[1;34m(self, url)\u001b[0m\n\u001b[0;32m    361\u001b[0m \u001b[38;5;28;01mdef\u001b[39;00m \u001b[38;5;21mget\u001b[39m(\u001b[38;5;28mself\u001b[39m, url: \u001b[38;5;28mstr\u001b[39m) \u001b[38;5;241m-\u001b[39m\u001b[38;5;241m>\u001b[39m \u001b[38;5;28;01mNone\u001b[39;00m:\n\u001b[0;32m    362\u001b[0m \u001b[38;5;250m    \u001b[39m\u001b[38;5;124;03m\"\"\"Loads a web page in the current browser session.\"\"\"\u001b[39;00m\n\u001b[1;32m--> 363\u001b[0m     \u001b[38;5;28;43mself\u001b[39;49m\u001b[38;5;241;43m.\u001b[39;49m\u001b[43mexecute\u001b[49m\u001b[43m(\u001b[49m\u001b[43mCommand\u001b[49m\u001b[38;5;241;43m.\u001b[39;49m\u001b[43mGET\u001b[49m\u001b[43m,\u001b[49m\u001b[43m \u001b[49m\u001b[43m{\u001b[49m\u001b[38;5;124;43m\"\u001b[39;49m\u001b[38;5;124;43murl\u001b[39;49m\u001b[38;5;124;43m\"\u001b[39;49m\u001b[43m:\u001b[49m\u001b[43m \u001b[49m\u001b[43murl\u001b[49m\u001b[43m}\u001b[49m\u001b[43m)\u001b[49m\n",
      "File \u001b[1;32mC:\\Python312\\Lib\\site-packages\\selenium\\webdriver\\remote\\webdriver.py:354\u001b[0m, in \u001b[0;36mWebDriver.execute\u001b[1;34m(self, driver_command, params)\u001b[0m\n\u001b[0;32m    352\u001b[0m response \u001b[38;5;241m=\u001b[39m \u001b[38;5;28mself\u001b[39m\u001b[38;5;241m.\u001b[39mcommand_executor\u001b[38;5;241m.\u001b[39mexecute(driver_command, params)\n\u001b[0;32m    353\u001b[0m \u001b[38;5;28;01mif\u001b[39;00m response:\n\u001b[1;32m--> 354\u001b[0m     \u001b[38;5;28;43mself\u001b[39;49m\u001b[38;5;241;43m.\u001b[39;49m\u001b[43merror_handler\u001b[49m\u001b[38;5;241;43m.\u001b[39;49m\u001b[43mcheck_response\u001b[49m\u001b[43m(\u001b[49m\u001b[43mresponse\u001b[49m\u001b[43m)\u001b[49m\n\u001b[0;32m    355\u001b[0m     response[\u001b[38;5;124m\"\u001b[39m\u001b[38;5;124mvalue\u001b[39m\u001b[38;5;124m\"\u001b[39m] \u001b[38;5;241m=\u001b[39m \u001b[38;5;28mself\u001b[39m\u001b[38;5;241m.\u001b[39m_unwrap_value(response\u001b[38;5;241m.\u001b[39mget(\u001b[38;5;124m\"\u001b[39m\u001b[38;5;124mvalue\u001b[39m\u001b[38;5;124m\"\u001b[39m, \u001b[38;5;28;01mNone\u001b[39;00m))\n\u001b[0;32m    356\u001b[0m     \u001b[38;5;28;01mreturn\u001b[39;00m response\n",
      "File \u001b[1;32mC:\\Python312\\Lib\\site-packages\\selenium\\webdriver\\remote\\errorhandler.py:229\u001b[0m, in \u001b[0;36mErrorHandler.check_response\u001b[1;34m(self, response)\u001b[0m\n\u001b[0;32m    227\u001b[0m         alert_text \u001b[38;5;241m=\u001b[39m value[\u001b[38;5;124m\"\u001b[39m\u001b[38;5;124malert\u001b[39m\u001b[38;5;124m\"\u001b[39m]\u001b[38;5;241m.\u001b[39mget(\u001b[38;5;124m\"\u001b[39m\u001b[38;5;124mtext\u001b[39m\u001b[38;5;124m\"\u001b[39m)\n\u001b[0;32m    228\u001b[0m     \u001b[38;5;28;01mraise\u001b[39;00m exception_class(message, screen, stacktrace, alert_text)  \u001b[38;5;66;03m# type: ignore[call-arg]  # mypy is not smart enough here\u001b[39;00m\n\u001b[1;32m--> 229\u001b[0m \u001b[38;5;28;01mraise\u001b[39;00m exception_class(message, screen, stacktrace)\n",
      "\u001b[1;31mNoSuchWindowException\u001b[0m: Message: no such window: target window already closed\nfrom unknown error: web view not found\n  (Session info: chrome=127.0.6533.120)\nStacktrace:\n\tGetHandleVerifier [0x00007FF660BA9632+30946]\n\t(No symbol) [0x00007FF660B5E3C9]\n\t(No symbol) [0x00007FF660A56FDA]\n\t(No symbol) [0x00007FF660A2CB85]\n\t(No symbol) [0x00007FF660AD37A7]\n\t(No symbol) [0x00007FF660AEA771]\n\t(No symbol) [0x00007FF660ACC813]\n\t(No symbol) [0x00007FF660A9A6E5]\n\t(No symbol) [0x00007FF660A9B021]\n\tGetHandleVerifier [0x00007FF660CDF83D+1301229]\n\tGetHandleVerifier [0x00007FF660CEBDB7+1351783]\n\tGetHandleVerifier [0x00007FF660CE2A03+1313971]\n\tGetHandleVerifier [0x00007FF660BDDD06+245686]\n\t(No symbol) [0x00007FF660B6758F]\n\t(No symbol) [0x00007FF660B63804]\n\t(No symbol) [0x00007FF660B63992]\n\t(No symbol) [0x00007FF660B5A3EF]\n\tBaseThreadInitThunk [0x00007FFD16CD7374+20]\n\tRtlUserThreadStart [0x00007FFD18ADCC91+33]\n"
     ]
    }
   ],
   "source": [
    "for page_num in range(1,11):\n",
    "    daumnews_url = 'https://news.daum.net/breakingnews/politics?page=%d' %page_num\n",
    "    time.sleep(2)\n",
    "    driver.get(daumnews_url)\n",
    "    html = driver.page_source\n",
    "    soup = BeautifulSoup(html, 'html.parser')\n",
    "    container = soup.find_all('strong', class_ = 'tit_thumb')\n",
    "    for article in container:\n",
    "        title_tag = article.find('a', class_ ='link_txt')\n",
    "        info_time = article.find('span', class_='info_time')\n",
    "        if info_time:\n",
    "            if title_tag:\n",
    "                title = title_tag.text.strip()\n",
    "                link = title_tag.get('href')\n",
    "                print(title)\n",
    "                print(link)\n",
    "            else:\n",
    "                print('no title')\n",
    "        else:\n",
    "            break\n",
    "        info_news = article.find('span', class_='info_news')\n",
    "        news_time = info_news.find('span', class_='info_time').text.strip()\n",
    "\n",
    "        datetime_combined = f\"{current_date}{news_time}\"\n",
    "\n",
    "        article_list.append({\n",
    "            'link': link,\n",
    "            'pdate': datetime_combined,\n",
    "            'title': title,\n",
    "            'cnt': cnt,\n",
    "            'section' : section\n",
    "        })\n",
    "        cnt += 1\n",
    "    \n",
    "for article in article_list:\n",
    "    print(article)"
   ]
  },
  {
   "cell_type": "code",
   "execution_count": 116,
   "id": "383a11f3-869e-4abc-be88-1a27501e0292",
   "metadata": {},
   "outputs": [
    {
     "name": "stdout",
     "output_type": "stream",
     "text": [
      "[<strong class=\"tit_thumb\">\n",
      "<a class=\"link_txt\" href=\"https://v.daum.net/v/20240816183611624\">오는 18일 DJ 15주기 추모식...한동훈·이재명 참석</a>\n",
      "<span class=\"info_news\">YTN<span class=\"txt_bar\"> · </span><span class=\"info_time\">18:36</span></span>\n",
      "</strong>, <strong class=\"tit_thumb\">\n",
      "<a class=\"link_txt\" href=\"https://v.daum.net/v/20240816183610623\">민주당 \"尹, 이 정도면 거부권 중독...독재 수준 폭주\"</a>\n",
      "<span class=\"info_news\">YTN<span class=\"txt_bar\"> · </span><span class=\"info_time\">18:36</span></span>\n",
      "</strong>, <strong class=\"tit_thumb\">\n",
      "<a class=\"link_txt\" href=\"https://v.daum.net/v/20240816183605612\">與, 尹 재의요구에 \"민생과 미래 위한 결정\"</a>\n",
      "<span class=\"info_news\">YTN<span class=\"txt_bar\"> · </span><span class=\"info_time\">18:36</span></span>\n",
      "</strong>, <strong class=\"tit_thumb\">\n",
      "<a class=\"link_txt\" href=\"https://v.daum.net/v/20240816183521601\">'노란봉투법·25만원법' 尹 거부권에…野 \"독재 수준\" 반발</a>\n",
      "<span class=\"info_news\">머니투데이<span class=\"txt_bar\"> · </span><span class=\"info_time\">18:35</span></span>\n",
      "</strong>, <strong class=\"tit_thumb\">\n",
      "<a class=\"link_txt\" href=\"https://v.daum.net/v/20240816183507596\">한동훈 대표, 채 상병 특검법안 제시하고 대화 나서야 한다</a>\n",
      "<span class=\"info_news\">한겨레<span class=\"txt_bar\"> · </span><span class=\"info_time\">18:35</span></span>\n",
      "</strong>, <strong class=\"tit_thumb\">\n",
      "<a class=\"link_txt\" href=\"https://v.daum.net/v/20240816183502594\">정봉주 “‘이재명 대통령 안 된다 말해’…본심은 충정과 애정”</a>\n",
      "<span class=\"info_news\">한겨레<span class=\"txt_bar\"> · </span><span class=\"info_time\">18:35</span></span>\n",
      "</strong>, <strong class=\"tit_thumb\">\n",
      "<a class=\"link_txt\" href=\"https://v.daum.net/v/20240816183501593\">국가안보실, 방산협력업체 보안 점검…“국가안보와 직결”</a>\n",
      "<span class=\"info_news\">서울신문<span class=\"txt_bar\"> · </span><span class=\"info_time\">18:35</span></span>\n",
      "</strong>, <strong class=\"tit_thumb\">\n",
      "<a class=\"link_txt\" href=\"https://v.daum.net/v/20240816183400581\">여 김건, 전기차 화재에 '배터리 제조사 실명법' 발의</a>\n",
      "<span class=\"info_news\">뉴시스<span class=\"txt_bar\"> · </span><span class=\"info_time\">18:34</span></span>\n",
      "</strong>, <strong class=\"tit_thumb\">\n",
      "<a class=\"link_txt\" href=\"https://v.daum.net/v/20240816183243568\">국민의힘 시도지사협의회 \"이종찬 광복회장 사퇴하라\"</a>\n",
      "<span class=\"info_news\">뉴시스<span class=\"txt_bar\"> · </span><span class=\"info_time\">18:32</span></span>\n",
      "</strong>, <strong class=\"tit_thumb\">\n",
      "<a class=\"link_txt\" href=\"https://v.daum.net/v/20240816183136542\">尹, 21번째 거부권… 민주 “대통령 폭주 가히 독재 수준”</a>\n",
      "<span class=\"info_news\">세계일보<span class=\"txt_bar\"> · </span><span class=\"info_time\">18:31</span></span>\n",
      "</strong>, <strong class=\"tit_thumb\">\n",
      "<a class=\"link_txt\" href=\"https://v.daum.net/v/20240816183010467\">野처럼회, 22대 첫 법안으로 강화된 김여사 특검법 발의</a>\n",
      "<span class=\"info_news\">연합뉴스<span class=\"txt_bar\"> · </span><span class=\"info_time\">18:30</span></span>\n",
      "</strong>, <strong class=\"tit_thumb\">\n",
      "<a class=\"link_txt\" href=\"https://v.daum.net/v/20240816182816442\">김홍걸 \"동교동 사저 '김대중·이희호 기념관'으로 활용\"</a>\n",
      "<span class=\"info_news\">한국일보<span class=\"txt_bar\"> · </span><span class=\"info_time\">18:28</span></span>\n",
      "</strong>, <strong class=\"tit_thumb\">\n",
      "<a class=\"link_txt\" href=\"https://v.daum.net/v/20240816182811441\">與시도지사협의회, 이종찬 광복회장 사퇴 요구…\"마타도어로 국론 분열\"</a>\n",
      "<span class=\"info_news\">데일리안<span class=\"txt_bar\"> · </span><span class=\"info_time\">18:28</span></span>\n",
      "</strong>, <strong class=\"tit_thumb\">\n",
      "<a class=\"link_txt\" href=\"https://v.daum.net/v/20240816182807440\">매각된 DJ 동교동 사저, '김대중·이희호 기념관'으로‥무료 개방</a>\n",
      "<span class=\"info_news\">MBC<span class=\"txt_bar\"> · </span><span class=\"info_time\">18:28</span></span>\n",
      "</strong>, <strong class=\"tit_thumb\">\n",
      "<a class=\"link_txt\" href=\"https://v.daum.net/v/20240816182707424\">매각된 DJ 동교동 사저…“‘김대중·이희호 기념관’으로 재단장, 무료 개방”</a>\n",
      "<span class=\"info_news\">문화일보<span class=\"txt_bar\"> · </span><span class=\"info_time\">18:27</span></span>\n",
      "</strong>, <strong class=\"tit_thumb\"><a class=\"link_txt\" href=\"https://v.daum.net/v/20240816183448590\"> 미중 패권경쟁의 파도가 밀려온다…'로빈 니블렛의 신냉전'</a></strong>, <strong class=\"tit_thumb\"><a class=\"link_txt\" href=\"https://v.daum.net/v/20240816183401582\"> 과도한 통제, 사그라드는 혁신…중국은 어디로 가나</a></strong>, <strong class=\"tit_thumb\"><a class=\"link_txt\" href=\"https://v.daum.net/v/20240816182902449\"> 착한 척 말라! 상대방 신발을 신어보라!…경청의 조건</a></strong>, <strong class=\"tit_thumb\"><a class=\"link_txt\" href=\"https://v.daum.net/v/20240816182747434\">“개미는 집 사러, 연기금은 해외로”... 현금인출기 신세 코스피 </a></strong>]\n"
     ]
    }
   ],
   "source": [
    "daumnews_url = 'https://news.daum.net/breakingnews/politics?page=1' \n",
    "driver.get(daumnews_url)\n",
    "html = driver.page_source\n",
    "soup = BeautifulSoup(html, 'html.parser')\n",
    "container = soup.find_all('strong', class_ = 'tit_thumb')\n",
    "print(container)"
   ]
  },
  {
   "cell_type": "code",
   "execution_count": 122,
   "id": "2c272f48-5f01-4e7b-8189-8f5100118c94",
   "metadata": {},
   "outputs": [
    {
     "name": "stdout",
     "output_type": "stream",
     "text": [
      "오는 18일 DJ 15주기 추모식...한동훈·이재명 참석\n",
      "https://v.daum.net/v/20240816183611624\n",
      "민주당 \"尹, 이 정도면 거부권 중독...독재 수준 폭주\"\n",
      "https://v.daum.net/v/20240816183610623\n",
      "與, 尹 재의요구에 \"민생과 미래 위한 결정\"\n",
      "https://v.daum.net/v/20240816183605612\n",
      "'노란봉투법·25만원법' 尹 거부권에…野 \"독재 수준\" 반발\n",
      "https://v.daum.net/v/20240816183521601\n",
      "한동훈 대표, 채 상병 특검법안 제시하고 대화 나서야 한다\n",
      "https://v.daum.net/v/20240816183507596\n",
      "정봉주 “‘이재명 대통령 안 된다 말해’…본심은 충정과 애정”\n",
      "https://v.daum.net/v/20240816183502594\n",
      "국가안보실, 방산협력업체 보안 점검…“국가안보와 직결”\n",
      "https://v.daum.net/v/20240816183501593\n",
      "여 김건, 전기차 화재에 '배터리 제조사 실명법' 발의\n",
      "https://v.daum.net/v/20240816183400581\n",
      "국민의힘 시도지사협의회 \"이종찬 광복회장 사퇴하라\"\n",
      "https://v.daum.net/v/20240816183243568\n",
      "尹, 21번째 거부권… 민주 “대통령 폭주 가히 독재 수준”\n",
      "https://v.daum.net/v/20240816183136542\n",
      "野처럼회, 22대 첫 법안으로 강화된 김여사 특검법 발의\n",
      "https://v.daum.net/v/20240816183010467\n",
      "김홍걸 \"동교동 사저 '김대중·이희호 기념관'으로 활용\"\n",
      "https://v.daum.net/v/20240816182816442\n",
      "與시도지사협의회, 이종찬 광복회장 사퇴 요구…\"마타도어로 국론 분열\"\n",
      "https://v.daum.net/v/20240816182811441\n",
      "매각된 DJ 동교동 사저, '김대중·이희호 기념관'으로‥무료 개방\n",
      "https://v.daum.net/v/20240816182807440\n",
      "매각된 DJ 동교동 사저…“‘김대중·이희호 기념관’으로 재단장, 무료 개방”\n",
      "https://v.daum.net/v/20240816182707424\n"
     ]
    }
   ],
   "source": [
    "for article in container:\n",
    "    title_tag = article.find('a', class_ ='link_txt')\n",
    "\n",
    "    info_time = article.find('span', class_='info_time')\n",
    "    if info_time:\n",
    "        if title_tag:\n",
    "            title = title_tag.text.strip()\n",
    "            link = title_tag.get('href')\n",
    "            print(title)\n",
    "            print(link)\n",
    "        else:\n",
    "            print('no title')\n",
    "    else:\n",
    "        break"
   ]
  },
  {
   "cell_type": "code",
   "execution_count": 125,
   "id": "dc954cbc-1454-4446-a1ec-f64d1077fb53",
   "metadata": {},
   "outputs": [
    {
     "name": "stdout",
     "output_type": "stream",
     "text": [
      "오는 18일 DJ 15주기 추모식...한동훈·이재명 참석\n",
      "https://v.daum.net/v/20240816183611624\n",
      "민주당 \"尹, 이 정도면 거부권 중독...독재 수준 폭주\"\n",
      "https://v.daum.net/v/20240816183610623\n",
      "與, 尹 재의요구에 \"민생과 미래 위한 결정\"\n",
      "https://v.daum.net/v/20240816183605612\n",
      "'노란봉투법·25만원법' 尹 거부권에…野 \"독재 수준\" 반발\n",
      "https://v.daum.net/v/20240816183521601\n",
      "한동훈 대표, 채 상병 특검법안 제시하고 대화 나서야 한다\n",
      "https://v.daum.net/v/20240816183507596\n",
      "정봉주 “‘이재명 대통령 안 된다 말해’…본심은 충정과 애정”\n",
      "https://v.daum.net/v/20240816183502594\n",
      "국가안보실, 방산협력업체 보안 점검…“국가안보와 직결”\n",
      "https://v.daum.net/v/20240816183501593\n",
      "여 김건, 전기차 화재에 '배터리 제조사 실명법' 발의\n",
      "https://v.daum.net/v/20240816183400581\n",
      "국민의힘 시도지사협의회 \"이종찬 광복회장 사퇴하라\"\n",
      "https://v.daum.net/v/20240816183243568\n",
      "尹, 21번째 거부권… 민주 “대통령 폭주 가히 독재 수준”\n",
      "https://v.daum.net/v/20240816183136542\n",
      "野처럼회, 22대 첫 법안으로 강화된 김여사 특검법 발의\n",
      "https://v.daum.net/v/20240816183010467\n",
      "김홍걸 \"동교동 사저 '김대중·이희호 기념관'으로 활용\"\n",
      "https://v.daum.net/v/20240816182816442\n",
      "與시도지사협의회, 이종찬 광복회장 사퇴 요구…\"마타도어로 국론 분열\"\n",
      "https://v.daum.net/v/20240816182811441\n",
      "매각된 DJ 동교동 사저, '김대중·이희호 기념관'으로‥무료 개방\n",
      "https://v.daum.net/v/20240816182807440\n",
      "매각된 DJ 동교동 사저…“‘김대중·이희호 기념관’으로 재단장, 무료 개방”\n",
      "https://v.daum.net/v/20240816182707424\n",
      "{'link': 'https://v.daum.net/v/20240816183611624', 'pdate': '2024-08-1618:36', 'title': '오는 18일 DJ 15주기 추모식...한동훈·이재명 참석', 'cnt': 1}\n",
      "{'link': 'https://v.daum.net/v/20240816183610623', 'pdate': '2024-08-1618:36', 'title': '민주당 \"尹, 이 정도면 거부권 중독...독재 수준 폭주\"', 'cnt': 2}\n",
      "{'link': 'https://v.daum.net/v/20240816183605612', 'pdate': '2024-08-1618:36', 'title': '與, 尹 재의요구에 \"민생과 미래 위한 결정\"', 'cnt': 3}\n",
      "{'link': 'https://v.daum.net/v/20240816183521601', 'pdate': '2024-08-1618:35', 'title': '\\'노란봉투법·25만원법\\' 尹 거부권에…野 \"독재 수준\" 반발', 'cnt': 4}\n",
      "{'link': 'https://v.daum.net/v/20240816183507596', 'pdate': '2024-08-1618:35', 'title': '한동훈 대표, 채 상병 특검법안 제시하고 대화 나서야 한다', 'cnt': 5}\n",
      "{'link': 'https://v.daum.net/v/20240816183502594', 'pdate': '2024-08-1618:35', 'title': '정봉주 “‘이재명 대통령 안 된다 말해’…본심은 충정과 애정”', 'cnt': 6}\n",
      "{'link': 'https://v.daum.net/v/20240816183501593', 'pdate': '2024-08-1618:35', 'title': '국가안보실, 방산협력업체 보안 점검…“국가안보와 직결”', 'cnt': 7}\n",
      "{'link': 'https://v.daum.net/v/20240816183400581', 'pdate': '2024-08-1618:34', 'title': \"여 김건, 전기차 화재에 '배터리 제조사 실명법' 발의\", 'cnt': 8}\n",
      "{'link': 'https://v.daum.net/v/20240816183243568', 'pdate': '2024-08-1618:32', 'title': '국민의힘 시도지사협의회 \"이종찬 광복회장 사퇴하라\"', 'cnt': 9}\n",
      "{'link': 'https://v.daum.net/v/20240816183136542', 'pdate': '2024-08-1618:31', 'title': '尹, 21번째 거부권… 민주 “대통령 폭주 가히 독재 수준”', 'cnt': 10}\n",
      "{'link': 'https://v.daum.net/v/20240816183010467', 'pdate': '2024-08-1618:30', 'title': '野처럼회, 22대 첫 법안으로 강화된 김여사 특검법 발의', 'cnt': 11}\n",
      "{'link': 'https://v.daum.net/v/20240816182816442', 'pdate': '2024-08-1618:28', 'title': '김홍걸 \"동교동 사저 \\'김대중·이희호 기념관\\'으로 활용\"', 'cnt': 12}\n",
      "{'link': 'https://v.daum.net/v/20240816182811441', 'pdate': '2024-08-1618:28', 'title': '與시도지사협의회, 이종찬 광복회장 사퇴 요구…\"마타도어로 국론 분열\"', 'cnt': 13}\n",
      "{'link': 'https://v.daum.net/v/20240816182807440', 'pdate': '2024-08-1618:28', 'title': \"매각된 DJ 동교동 사저, '김대중·이희호 기념관'으로‥무료 개방\", 'cnt': 14}\n",
      "{'link': 'https://v.daum.net/v/20240816182707424', 'pdate': '2024-08-1618:27', 'title': '매각된 DJ 동교동 사저…“‘김대중·이희호 기념관’으로 재단장, 무료 개방”', 'cnt': 15}\n"
     ]
    }
   ],
   "source": [
    "for article in container:\n",
    "    title_tag = article.find('a', class_ ='link_txt')\n",
    "    info_time = article.find('span', class_='info_time')\n",
    "    if info_time:\n",
    "        if title_tag:\n",
    "            title = title_tag.text.strip()\n",
    "            link = title_tag.get('href')\n",
    "            print(title)\n",
    "            print(link)\n",
    "        else:\n",
    "            print('no title')\n",
    "    else:\n",
    "        break\n",
    "    info_news = article.find('span', class_='info_news')\n",
    "    news_time = info_news.find('span', class_='info_time').text.strip()\n",
    "\n",
    "    datetime_combined = f\"{current_date}{news_time}\"\n",
    "\n",
    "    article_list.append({\n",
    "        'link': link,\n",
    "        'pdate': datetime_combined,\n",
    "        'title': title,\n",
    "        'cnt': cnt\n",
    "    })\n",
    "    cnt += 1\n",
    "for article in article_list:\n",
    "    print(article)"
   ]
  },
  {
   "cell_type": "code",
   "execution_count": null,
   "id": "62334ab9-eb73-472e-a0f6-7d56660e9b08",
   "metadata": {},
   "outputs": [],
   "source": []
  },
  {
   "cell_type": "code",
   "execution_count": null,
   "id": "ef9ed51b-06f2-4f38-be04-29d11ba61cf9",
   "metadata": {},
   "outputs": [],
   "source": [
    "html = driver.page_source\n",
    "soup = BeautifulSoup(html, 'html.parser')\n",
    "container = soup.find_all('ul', class_ = 'list_realtime')\n",
    "print(container)"
   ]
  },
  {
   "cell_type": "code",
   "execution_count": null,
   "id": "8188e500-3dff-4e0e-8918-47bf836679ce",
   "metadata": {},
   "outputs": [],
   "source": []
  },
  {
   "cell_type": "code",
   "execution_count": null,
   "id": "b95fcc62-908b-422c-8d0f-08af87e397dc",
   "metadata": {},
   "outputs": [],
   "source": []
  },
  {
   "cell_type": "code",
   "execution_count": null,
   "id": "14c1e7d7-df2a-4bfb-bc4c-8fd7faacda36",
   "metadata": {},
   "outputs": [],
   "source": []
  },
  {
   "cell_type": "code",
   "execution_count": null,
   "id": "1f5f610b-a7f0-46f0-acd6-7466805cefd0",
   "metadata": {},
   "outputs": [],
   "source": []
  },
  {
   "cell_type": "code",
   "execution_count": null,
   "id": "5261ea3e-c383-429a-bd94-408534fc7727",
   "metadata": {},
   "outputs": [],
   "source": []
  },
  {
   "cell_type": "code",
   "execution_count": null,
   "id": "9a30abf9-cc87-4aa0-bee6-e24aeea0883c",
   "metadata": {},
   "outputs": [],
   "source": []
  },
  {
   "cell_type": "code",
   "execution_count": null,
   "id": "112c573d-52ea-4ac6-b54a-4f4cf6adbbe1",
   "metadata": {},
   "outputs": [],
   "source": []
  }
 ],
 "metadata": {
  "kernelspec": {
   "display_name": "Python 3 (ipykernel)",
   "language": "python",
   "name": "python3"
  },
  "language_info": {
   "codemirror_mode": {
    "name": "ipython",
    "version": 3
   },
   "file_extension": ".py",
   "mimetype": "text/x-python",
   "name": "python",
   "nbconvert_exporter": "python",
   "pygments_lexer": "ipython3",
   "version": "3.12.4"
  }
 },
 "nbformat": 4,
 "nbformat_minor": 5
}
